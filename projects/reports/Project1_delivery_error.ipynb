{
 "cells": [
  {
   "cell_type": "markdown",
<<<<<<< HEAD:projects/1project/Project1(delivery).ipynb
   "id": "000bf255",
   "metadata": {},
   "source": [
    "# Fys-stk4155 - Project 1\n",
    "##### Authors: Adele Zaini, Gaute Arnesson Holen, Fridtjof Gjengset\n",
    "##### Date:11. October, 2021\n",
    "\n",
    "\n",
    "## Exercise 1:\n",
    "We start by calculating the frankefunction as Described in the task. "
   ]
  },
  {
   "cell_type": "markdown",
   "id": "0b6317bc",
=======
>>>>>>> 348a026a3573a045d6d3bdf618bb61562d8bc2c1:projects/reports/Project1_delivery.ipynb
   "metadata": {},
   "source": [
    "# FYS-STK4155 - Project 1\n",
    "##### Authors: Adele Zaini, Gaute Arnesson Holen, Fridtjof Gjengset\n",
    "##### Date:11. October, 2021\n",
    "\n",
    "\n",
    "## Exercise 1:\n",
    "\n",
    "[insert introduction to task]\n",
    "\n",
    "\n",
    "After splitting the data using the **train_test_split** function from scikit learn, and rescaling the data using **StandardScaler**, we find the OLS on the Frankefunction by matrix inversion. \n",
    "\n",
    "$$\\hat{\\beta} = (X^T X)X^T z$$\n",
    "\n",
    "Where X is the designmatrix for the traindata and z is the training datapoints from the frankefunction. To avoid problems arising from singular matrices, we use the **pinv()** function to find the psudoinverse.\n",
    "\n",
    "\n",
    "This yields both our model and the prediction by\n",
    "$$\\tilde{z} = X \\hat{\\beta}$$\n",
    "Where X is the designmatrix for the training data to produce our model, and the designmatrix for our test data to produce out prediction. \n",
    "\n",
    "We can the use the formulas provided to us in the exercise to calculate the R2 score and the mean square error, for both the test and train data. \n",
    "\n",
    "We do not **have** to scale this dataset as we're not working with a lot of different units. If we imagine this to be terrain data, all the data in the set could be mesured in meteres. However, we use boolean as an argument to quickly be able to enable or disable scaling. We decided to scale the data for more adaptive code that can be reused for other purposes(Adele agree?)."
   ]
  },
  {
   "cell_type": "code",
   "execution_count": null,
   "metadata": {},
   "outputs": [],
   "source": [
    "%run ../1project/task1.py"
   ]
  },
  {
   "cell_type": "markdown",
   "metadata": {},
   "source": [
    "## Exercise 2:\n",
    "\n",
    "We can reproduce figure. 2.11 from Hastie, Tibshiani and Friedman, by plotting the MSE as a function of the complexity of the model. By using the same x, y and z values, we calculate the designmatrix **X** with a complexity from n=2 to n=20, where n is the compexity/degree og the polynomial. For each designmtrix we find the OLS and calcualte the MSE for the test and training data. This produces the following plot:\n",
    "\n",
    "[insert plot]\n",
    "\n",
    "Initially the MSE for both test and train decreases as out model imporves with the complexity of the polynomial. Around a polynomial of the 5th(?) degree, we can see that the MSE for the test data increases, while the MSE for the train data continues to decrease. This is beacuse the increased complexity of the designmatrix causes overfitting. Out model therefore fits the training data better, but gives a poor model for the test data, because it has overfitted to the training set. It seems out model does best around a complexity of n=5(?)"
   ]
  },
  {
   "cell_type": "code",
   "execution_count": null,
<<<<<<< HEAD:projects/1project/Project1(delivery).ipynb
   "id": "26430cde",
=======
   "metadata": {},
   "outputs": [],
   "source": [
    "%run ../1project/task2.py"
   ]
  },
  {
   "cell_type": "code",
   "execution_count": null,
>>>>>>> 348a026a3573a045d6d3bdf618bb61562d8bc2c1:projects/reports/Project1_delivery.ipynb
   "metadata": {},
   "outputs": [],
   "source": []
  }
 ],
 "metadata": {
  "kernelspec": {
   "display_name": "Python 3",
   "language": "python",
   "name": "python3"
  },
  "language_info": {
   "codemirror_mode": {
    "name": "ipython",
    "version": 3
   },
   "file_extension": ".py",
   "mimetype": "text/x-python",
   "name": "python",
   "nbconvert_exporter": "python",
   "pygments_lexer": "ipython3",
   "version": "3.8.5"
  }
 },
 "nbformat": 4,
 "nbformat_minor": 5
}
