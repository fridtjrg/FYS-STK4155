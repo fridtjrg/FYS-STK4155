{
 "cells": [
  {
   "cell_type": "markdown",
   "metadata": {},
   "source": [
    "# FYS-STK4155 – Project 1: Regression analysis and resampling methods\n",
    "\n",
    "##### Authors: Adele Zaini, Gaute Arnesson Holen, Fridtjof Gjengset\n",
    "##### Date: 11. October, 2021\n",
    "\n",
    "## Before we start: \n",
    "\n",
    "After a general introduction and some theoretical background with elements shared and useful for each exercise, we move more deeply into the explanation and presentation of each task.\n",
    "\n",
    "### General introduction\n",
    "\n",
    "In this first project we were asked to explore the techniques of Regression, as the basic step to go further deeply into Machine Learning, and the resampling methods, such as Bootstrap and Cross-validation, while perfoming a Bias-variance decomposition analysis.\n",
    "\n",
    "In order to set up all our regression and resampling methods, we started working with a vanilla dataset given by the Franke function, depending of two independent variables $x$ and $y$, with an added stochastic noise. At the end, we performed the code with a real dataset taken from a terrain survey.\n",
    "\n",
    "**Franke's function** is a weighted sum of four exponentials:\n",
    "\n",
    "$$\n",
    "\\begin{align*}\n",
    "f(x,y) &= \\frac{3}{4}\\exp{\\left(-\\frac{(9x-2)^2}{4} - \\frac{(9y-2)^2}{4}\\right)}+\\frac{3}{4}\\exp{\\left(-\\frac{(9x+1)^2}{49}- \\frac{(9y+1)}{10}\\right)} \\\\\n",
    "&+\\frac{1}{2}\\exp{\\left(-\\frac{(9x-7)^2}{4} - \\frac{(9y-3)^2}{4}\\right)} -\\frac{1}{5}\\exp{\\left(-(9x-4)^2 - (9y-7)^2\\right) }.\n",
    "\\end{align*}\n",
    "$$\n",
    "\n",
    "The function is defined for $x,y\\in [0,1]$.\n",
    "\n",
    "<right><img src=\"FrankeFunction.png\" width=\"650\"></right>\n",
    "\n",
    "### Theoretical background\n",
    "\n",
    "*Note: the explanation is given assuming a two-dimensional problem, in order to emphathise the physical idea and not to overwhelm the explanation of indexes little useful for the understanding. Just consider inputs $x$ as both indipendent variables $(x,y)$ and the outputs $y$ as the third dimension $z$. Relevant differences will be pointed out through notes.*\n",
    "\n",
    "Given the two datasets of inputs $x=[x_0,x_1,...x_{n-1}]$ and the outputs $y=[y_0,y_1,...y_{n-1}]$, we perform a polynomial fit of this function using Regression methods with the following **basic assumption**. There exists a continuous function (some degree-order polynomial) $f(x)$ s.t. we can interpret the outputs as **$y(x)=f(x)+\\epsilon$**. Basically we are splitting the outputs into a deterministic component, our model, and a stochastic error contribution $\\epsilon$. Also, an importnant assumption is given by this error $\\epsilon$ that we assume normally distributed with $\\mu=0$ and variance $\\sigma^2$ ($\\epsilon \\sim \\cal{N}(0,1)$).\n",
    "\n",
    "So now assuming that the $f(x)$ can be approximated as a polynomial of $k$ degree, we get the following expression:\n",
    "\n",
    "$$\n",
    "y=y(x) \\ \\ \\rightarrow \\\\ y(x_i)=\\tilde{y}_i+\\epsilon_i=\\sum_{j=0}^{k-1} \\beta_j x_i^j+\\epsilon_i, \\\\ \\forall i=0,...n\n",
    "$$\n",
    "\n",
    "So that our model $\\boldsymbol{\\tilde{y}}$ (i.e. without the stochastic component) can be rewritten in a matricial notation:\n",
    "\n",
    "$$\n",
    "\\boldsymbol{\\tilde{y}}= \\boldsymbol{X}\\boldsymbol{\\beta},\n",
    "$$\n",
    "where $X$ is called *Design matrix* with $n$ rows and columns depending on the degree of the polynomial. While $\\beta$ is the estimator vector of the coefficients of our regression. \n",
    "\n",
    "*Note: in the three-dimensional problem, each row of the design matrix would look like $X_{i*}=[x_i, y_i,\n",
    "x_i^2, y_i^2, x_iy_i, \\dots]$. If the polynomial is of degree $k$ than our model will have $k'=\\frac{(k+1)(k+2)}{2}$ ($k>0$) feutures, that means $k'$ columns of the design matrix and elements in $\\beta$. The design matrix is then $(n \\ \\text{x} \\ k')$.*\n",
    "\n",
    "We need to find the optimal $\\hat{\\beta}$ that is the one that minimizes the cost function $C(X,\\beta)$ (i.e. the \"difference\" between our data and the model we are choosing). In our own case, the $MSE$ is taken as cost function:\n",
    "$$\n",
    "C(X,\\beta)=MSE(X,\\beta)=\\\\ =\\frac{1}{n}\\sum_{i=0}^{n-1}\\left(y_i-\\tilde{y}_i\\right)^2=\\\\ =\\frac{1}{n}\\sum_{i=0}^{n-1}\\left(y_i-X_{i*}\\beta\\right)^2\n",
    "$$\n",
    "\n",
    "\n",
    "The expression of the optimal $\\hat{\\beta}$ depends on the regression methods choosen. Here we explore the Linear (Ordinary Least Square, OLS), Ridge and Lasso Regression. For further details, see the introduction of the respective exercise.\n",
    "\n",
    "\n",
    "### Code structure\n",
    "\n",
    "The code is structured into libraries (e.g. `regression.py`), which gather all the functions needed for solving the various tasks, while the specific task codes are in `task*.py` files.\n",
    "\n",
    "In the course of this notebook, we inserted runnable cells to run the task codes directly and dynamically from here to show up the results, e.g.:\n",
    "\n",
    "```\n",
    "%run ./1project/task1.py\n",
    "```\n",
    "\n",
    "\n",
    "After a brief introduction, we will explain the algorithm, show the results and comment on them.\n",
    "\n",
    "*Note: a further improvement to the code would be structuring as **object-oriented**. We have started converting the code but by the time of the deadline it was not ready to be runnable yet.*"
   ]
  },
  {
   "cell_type": "markdown",
   "metadata": {},
   "source": [
    "## Exercise 1: Ordinary Least Square (OLS) on the Franke function\n",
    "\n",
    "### Introduction\n",
    "In this task we are asked to write owr own code to perfom a standard least square regression analysis using polynomials in $x$ and $y$ up to fifth order. \n",
    "\n",
    "For the OLS Regression, the formula for the optimal $\\hat{\\beta}$ is the following (*Ordinary Least Square Equation*):\n",
    "\n",
    "$$\\hat{\\beta}_{OLS} = (X^T X)^{-1}X^T z$$\n",
    "\n",
    "and the predicted outputs are given by the previous formula $\\tilde{z}= X\\hat{\\beta}_{OLS}$.\n",
    "\n",
    "To access the quality of the model, we perfom an error analysis, involving the Mean Square Error ($MSE$) and the $R^2$ score function:\n",
    "\n",
    "$$\n",
    "MSE(\\hat{z},\\hat{\\tilde{z}}) = \\frac{1}{n}\n",
    "\\sum_{i=0}^{n-1}(z_i-\\tilde{z}_i)^2,\n",
    "$$\n",
    "\n",
    "$$\n",
    "R^2(\\hat{z}, \\tilde{\\hat{z}}) = 1 - \\frac{\\sum_{i=0}^{n - 1} (z_i - \\tilde{z}_i)^2}{\\sum_{i=0}^{n - 1} (z_i - \\bar{z})^2},\n",
    "$$\n",
    "\n",
    "where $\\tilde{z}_i$ is the predicted value of the $i-th$ sample, $z_i$ is the corresponding true value and $\\bar{z}$ is the mean value given by $ \\bar{z} =  \\frac{1}{n} \\sum_{i=0}^{n - 1} z_i$.\n",
    "\n",
    "<font color=purple>**Confidence interval**</font>\n",
    "\n",
    "### Algorithm\n",
    "\n",
    "First of all, we create our vanilla dataset using the FrankeFunction espression, $n=25$ datapoints and an error distributed as $\\epsilon \\sim \\cal{N}(0,0.1)$. Then we create the design matrix $X$ for a polynomial of degree 5 and we split the data into a 80% training and 20% test datasets. This datasets are then rescaled subtracting the mean value and we perfom a Ordinary Least Square regression to have the model outputs ($z$ values from the training data) and the prediction ones ($z$ values from the test data). The matrix pseudoinverse provided by *numpy* is used to evaluate the inverse in the OLS equation, even when this is singular. The error analysis is then applied to both the training and test outputs and the confidence interval of the $\\beta$ estimetors is evaluated.\n",
    "\n",
    "<font color=purple>**rescaling: You should present a critical discussion of why and how you have scaled or not scaled the data**</font>\n",
    "\n",
    "The library called `regression.py` contains all the functions needed for this exercise, while the main code is in `task1.py`. The functions used to solve this exercise are:\n",
    "\n",
    "- `FrankeFunction(x,y)`: evaluate the Franke function from the values $x$ and $y$.\n",
    "- `create_xyz_dataset(n,mu, sigma)`: create the inputs $(x,y)$ and output $z$ datasets with $n^2$ datapoints and use the `FrankeFunction(x,y)` adding a stochastic normally distrbuted noise $\\epsilon \\sim \\cal{N}(\\mu,\\sigma)$.\n",
    "- `Plot_frankefunction(x,y,z)`: create a 3d plot suitable for displaying the Franke function.\n",
    "- `create_X(x,y,n)`: create the design matrix from the the two indipendent variables $x$ and $y$ with a complexity (i.e. degree of polynomial, feutures) $n$.\n",
    "- `Split_and_Scale(X,z,test_size=0.2, scale=True)`: split the dataset, using *train_test_split* from Scikit-Learn, into a training and test datasets in a fraction given by a *test_size* (default value *0.2*). Scaling the data is optional, according the problem. The default boolean argument is *scale=True* and it uses the *StandardScaler(with_std=False)* from Scikit-Learn to subtract the mean value from the dataset. \n",
    "- `OLS_solver(X_train, X_test, z_train, z_test)`: evaluate the OLS equation through matix inversion and return the optimal $\\hat{\\beta}$ values, our model $\\tilde{z}$ ($z$ values from the training data) and our prediction ($z$ values from the test data). \n",
    "- `MSE(z_data, z_model)`: calculate the mean square error of a dataset compared to a model or prediction.\n",
    "- `R2(z_data,z_model)`: calculate the R2 score of a dataset compared to a model or prediction.\n",
    "- `Confidence_Interval(beta, X, sigma=1)`: evaluate the confidence interval of $\\beta$ values through the their variance and the standard deviation of the model (default value is *1*) with a 95% certainty.\n",
    "\n",
    "### Results"
   ]
  },
  {
   "cell_type": "code",
   "execution_count": 7,
   "metadata": {},
   "outputs": [
    {
     "data": {
      "image/png": "[encoded data removed]",
      "text/plain": [
       "<Figure size 576x504 with 2 Axes>"
      ]
     },
     "metadata": {
      "needs_background": "light"
     },
     "output_type": "display_data"
    },
    {
     "name": "stdout",
     "output_type": "stream",
     "text": [
      "––––––––––––––––––––––––––––––––––––––––––––\n",
      "Train MSE: 0.0115\n",
      "Test MSE: 0.0154\n",
      "––––––––––––––––––––––––––––––––––––––––––––\n",
      "Train R2: 0.8743\n",
      "Test R2: 0.839\n",
      "––––––––––––––––––––––––––––––––––––––––––––\n",
      "Confidence interval of β-estimator at 95 %:\n"
     ]
    },
    {
     "data": {
      "text/html": [
       "<div>\n",
       "<style scoped>\n",
       "    .dataframe tbody tr th:only-of-type {\n",
       "        vertical-align: middle;\n",
       "    }\n",
       "\n",
       "    .dataframe tbody tr th {\n",
       "        vertical-align: top;\n",
       "    }\n",
       "\n",
       "    .dataframe thead th {\n",
       "        text-align: right;\n",
       "    }\n",
       "</style>\n",
       "<table border=\"1\" class=\"dataframe\">\n",
       "  <thead>\n",
       "    <tr style=\"text-align: right;\">\n",
       "      <th></th>\n",
       "      <th>$β_{-}$</th>\n",
       "      <th>$β_{ols}$</th>\n",
       "      <th>$β_{+}$</th>\n",
       "    </tr>\n",
       "  </thead>\n",
       "  <tbody>\n",
       "    <tr>\n",
       "      <th>0</th>\n",
       "      <td>0.000</td>\n",
       "      <td>0.000</td>\n",
       "      <td>0.000</td>\n",
       "    </tr>\n",
       "    <tr>\n",
       "      <th>1</th>\n",
       "      <td>8.761</td>\n",
       "      <td>8.764</td>\n",
       "      <td>8.767</td>\n",
       "    </tr>\n",
       "    <tr>\n",
       "      <th>2</th>\n",
       "      <td>4.463</td>\n",
       "      <td>4.466</td>\n",
       "      <td>4.469</td>\n",
       "    </tr>\n",
       "    <tr>\n",
       "      <th>3</th>\n",
       "      <td>-41.684</td>\n",
       "      <td>-41.669</td>\n",
       "      <td>-41.655</td>\n",
       "    </tr>\n",
       "    <tr>\n",
       "      <th>4</th>\n",
       "      <td>-18.596</td>\n",
       "      <td>-18.584</td>\n",
       "      <td>-18.573</td>\n",
       "    </tr>\n",
       "    <tr>\n",
       "      <th>5</th>\n",
       "      <td>-13.007</td>\n",
       "      <td>-12.993</td>\n",
       "      <td>-12.980</td>\n",
       "    </tr>\n",
       "    <tr>\n",
       "      <th>6</th>\n",
       "      <td>68.067</td>\n",
       "      <td>68.098</td>\n",
       "      <td>68.130</td>\n",
       "    </tr>\n",
       "    <tr>\n",
       "      <th>7</th>\n",
       "      <td>52.103</td>\n",
       "      <td>52.127</td>\n",
       "      <td>52.151</td>\n",
       "    </tr>\n",
       "    <tr>\n",
       "      <th>8</th>\n",
       "      <td>28.833</td>\n",
       "      <td>28.856</td>\n",
       "      <td>28.879</td>\n",
       "    </tr>\n",
       "    <tr>\n",
       "      <th>9</th>\n",
       "      <td>1.904</td>\n",
       "      <td>1.935</td>\n",
       "      <td>1.966</td>\n",
       "    </tr>\n",
       "    <tr>\n",
       "      <th>10</th>\n",
       "      <td>-45.981</td>\n",
       "      <td>-45.949</td>\n",
       "      <td>-45.916</td>\n",
       "    </tr>\n",
       "    <tr>\n",
       "      <th>11</th>\n",
       "      <td>-59.757</td>\n",
       "      <td>-59.732</td>\n",
       "      <td>-59.707</td>\n",
       "    </tr>\n",
       "    <tr>\n",
       "      <th>12</th>\n",
       "      <td>-16.922</td>\n",
       "      <td>-16.899</td>\n",
       "      <td>-16.876</td>\n",
       "    </tr>\n",
       "    <tr>\n",
       "      <th>13</th>\n",
       "      <td>-36.579</td>\n",
       "      <td>-36.554</td>\n",
       "      <td>-36.530</td>\n",
       "    </tr>\n",
       "    <tr>\n",
       "      <th>14</th>\n",
       "      <td>18.927</td>\n",
       "      <td>18.959</td>\n",
       "      <td>18.992</td>\n",
       "    </tr>\n",
       "    <tr>\n",
       "      <th>15</th>\n",
       "      <td>10.445</td>\n",
       "      <td>10.458</td>\n",
       "      <td>10.471</td>\n",
       "    </tr>\n",
       "    <tr>\n",
       "      <th>16</th>\n",
       "      <td>20.502</td>\n",
       "      <td>20.513</td>\n",
       "      <td>20.524</td>\n",
       "    </tr>\n",
       "    <tr>\n",
       "      <th>17</th>\n",
       "      <td>14.464</td>\n",
       "      <td>14.474</td>\n",
       "      <td>14.485</td>\n",
       "    </tr>\n",
       "    <tr>\n",
       "      <th>18</th>\n",
       "      <td>-2.556</td>\n",
       "      <td>-2.545</td>\n",
       "      <td>-2.535</td>\n",
       "    </tr>\n",
       "    <tr>\n",
       "      <th>19</th>\n",
       "      <td>18.668</td>\n",
       "      <td>18.679</td>\n",
       "      <td>18.690</td>\n",
       "    </tr>\n",
       "    <tr>\n",
       "      <th>20</th>\n",
       "      <td>-12.591</td>\n",
       "      <td>-12.579</td>\n",
       "      <td>-12.566</td>\n",
       "    </tr>\n",
       "  </tbody>\n",
       "</table>\n",
       "</div>"
      ],
      "text/plain": [
       "    $β_{-}$  $β_{ols}$  $β_{+}$\n",
       "0     0.000      0.000    0.000\n",
       "1     8.761      8.764    8.767\n",
       "2     4.463      4.466    4.469\n",
       "3   -41.684    -41.669  -41.655\n",
       "4   -18.596    -18.584  -18.573\n",
       "5   -13.007    -12.993  -12.980\n",
       "6    68.067     68.098   68.130\n",
       "7    52.103     52.127   52.151\n",
       "8    28.833     28.856   28.879\n",
       "9     1.904      1.935    1.966\n",
       "10  -45.981    -45.949  -45.916\n",
       "11  -59.757    -59.732  -59.707\n",
       "12  -16.922    -16.899  -16.876\n",
       "13  -36.579    -36.554  -36.530\n",
       "14   18.927     18.959   18.992\n",
       "15   10.445     10.458   10.471\n",
       "16   20.502     20.513   20.524\n",
       "17   14.464     14.474   14.485\n",
       "18   -2.556     -2.545   -2.535\n",
       "19   18.668     18.679   18.690\n",
       "20  -12.591    -12.579  -12.566"
      ]
     },
     "metadata": {},
     "output_type": "display_data"
    },
    {
     "name": "stdout",
     "output_type": "stream",
     "text": [
      "––––––––––––––––––––––––––––––––––––––––––––\n"
     ]
    }
   ],
   "source": [
    "%run ../1project/task1.py"
   ]
  },
  {
   "cell_type": "markdown",
   "metadata": {},
   "source": [
    "### Comments\n",
    "<font color=purple>**comment results**</font>"
   ]
  },
  {
   "cell_type": "markdown",
   "metadata": {},
   "source": [
    "\n",
    "## Exercise 2: Bias-variance trade-off and resampling techniques\n",
    "\n",
    "### Introduction\n",
    "\n",
    "This exercise focuses on studying the bias-variance trade-off by implementing the *bootstrap* resampling technique.\n",
    "\n",
    "<font color=purple>**MSE VS complexity**</font>\n",
    "Insert picture and comment\n",
    "\n",
    "<font color=purple>**Bootstrap and resamplings**</font>\n",
    "algorithm\n",
    "\n",
    "<font color=purple>**B-V Tradeoff**</font>\n",
    "\n",
    "<font color=purple>**prove the equation**</font>\n",
    "\n",
    "**Explain what the terms mean, which one is the bias and which one is\n",
    "the variance and discuss their interpretations.**\n",
    "\n",
    "### Algorithm\n",
    "\n",
    "OLS\n",
    "\n",
    "Firstly, the $MSE$ is explored as function of complexity, in particular when dividing the dataset into training and test data, in order to find the optimal \"complexity\" (i.e. degree of polynomial) without exceding in overfitting. To get a better extimation of the $MSE$ it has been coupled with resampling methods, and to have a better understanding and deeper comprehension, a bias-variance tradeoff analysis has been performed.\n",
    "\n",
    "\n",
    "We can reproduce figure. 2.11 from Hastie, Tibshiani and Friedman, by plotting the MSE as a function of the complexity of the model. By using the same x, y and z values, we calculate the designmatrix **X** with a complexity from n=2 to n=20, where n is the compexity/degree og the polynomial. For each designmtrix we find the OLS and calcualte the MSE for the test and training data. We import the function **plot_ols_complexity**(x, y, z, complexity) from the linear_regression library, which does exactly this. It's default valye for complexity is set to **range(2,20)**. After importing **plot_ols_complexity()** we can therefore simply write:\n",
    "\n",
    "- `FrankeFunction(x,y)`:\n",
    "\n",
    "### Results"
   ]
  },
  {
   "cell_type": "markdown",
   "metadata": {},
   "source": [
    "We can reproduce figure. 2.11 from Hastie, Tibshiani and Friedman, by plotting the MSE as a function of the complexity of the model. By using the same x, y and z values, we calculate the designmatrix **X** with a complexity from n=2 to n=20, where n is the compexity/degree og the polynomial. For each designmtrix we find the OLS and calcualte the MSE for the test and training data. We import the function **plot_ols_complexity**(x, y, z, complexity) from the linear_regression library, which does exactly this. It's default valye for complexity is set to **range(2,20)**. After importing **plot_ols_complexity()** we can therefore simply write:"
   ]
  },
  {
   "cell_type": "code",
   "execution_count": null,
   "metadata": {},
   "outputs": [],
   "source": [
    "from linear_regression import plot_ols_complexity\n",
    "complexity = range(2,20)\n",
    "plot_ols_complexity(x,y,z,complexity)"
   ]
  },
  {
   "cell_type": "markdown",
   "metadata": {},
   "source": [
    "Initially the MSE for both test and train decreases as out model imporves with the complexity of the polynomial. Around a polynomial of the 5th degree, we can see that the MSE for the test data increases, while the MSE for the train data continues to decrease. This is beacuse the increased complexity of the designmatrix causes overfitting. Out model therefore fits the training data better, but gives a poor model for the test data, because it has overfitted to the training set. It seems out model does best around a complexity of n=5.\n"
   ]
  },
  {
   "cell_type": "code",
   "execution_count": null,
   "metadata": {},
   "outputs": [],
   "source": [
    "%run ../1project/task2.py"
   ]
  },
  {
   "cell_type": "markdown",
   "metadata": {},
   "source": [
    "### Comments\n",
    "<font color=purple>**comment results**</font>\n",
    "\n",
    "\n",
    "<font color=purple>**MSE VS COMPLEXITY: indicate possible regions of low/high bias and variance**\n",
    "\n",
    "**Discuss the bias and variance trade-off as function\n",
    "of your model complexity (the degree of the polynomial) and the number\n",
    "of data points**, and possibly also your training and test data using the **bootstrap** resampling method.</font>"
   ]
  },
  {
   "cell_type": "markdown",
   "metadata": {},
   "source": [
    "## Exercise 3: Cross-validation as resampling techniques, adding more complexity\n",
    "\n",
    "### Introduction\n",
    "\n",
    "\n",
    "### Algorithm\n",
    "\n",
    "Gaute\n",
    "- `FrankeFunction(x,y)`:\n",
    "\n",
    "\n",
    "### Results"
   ]
  },
  {
   "cell_type": "code",
   "execution_count": null,
   "metadata": {},
   "outputs": [],
   "source": [
    "%run ../1project/task3.py"
   ]
  },
  {
   "cell_type": "markdown",
   "metadata": {},
   "source": [
    "### Comments\n",
    "<font color=purple>**comment results**</font>"
   ]
  },
  {
   "cell_type": "markdown",
   "metadata": {},
   "source": [
    "## Exercise 4: Ridge Regression on the Franke function with resampling\n",
    "\n",
    "### Introduction\n",
    "For the OLS Regression, the formula for the optimal $\\hat{\\beta}$ is the following (*Ordinary Least Square Equation*):\n",
    "\n",
    "$$\\hat{\\beta}_{OLS} = (X^T X)^{-1}X^T z$$\n",
    "\n",
    "and the predicted outputs are given by the previous formula $\\tilde{z}= X\\hat{\\beta}_{OLS}$.\n",
    "\n",
    "### Algorithm\n",
    "- `FrankeFunction(x,y)`:\n",
    "\n",
    "### Results"
   ]
  },
  {
   "cell_type": "code",
   "execution_count": null,
   "metadata": {},
   "outputs": [],
   "source": []
  },
  {
   "cell_type": "markdown",
   "metadata": {},
   "source": [
    "### Comments\n",
    "<font color=purple>**comment results**\n",
    "Study the dependence on $\\lambda$</font>"
   ]
  },
  {
   "cell_type": "markdown",
   "metadata": {},
   "source": [
    "## Exercise 5: Lasso Regression on the Franke function  with resampling\n",
    "\n",
    "### Introduction\n",
    "For the OLS Regression, the formula for the optimal $\\hat{\\beta}$ is the following (*Ordinary Least Square Equation*):\n",
    "\n",
    "$$\\hat{\\beta}_{OLS} = (X^T X)^{-1}X^T z$$\n",
    "\n",
    "and the predicted outputs are given by the previous formula $\\tilde{z}= X\\hat{\\beta}_{OLS}$.\n",
    "\n",
    "### Algorithm\n",
    "- `FrankeFunction(x,y)`:\n",
    "\n",
    "### Results"
   ]
  },
  {
   "cell_type": "code",
   "execution_count": null,
   "metadata": {},
   "outputs": [],
   "source": []
  },
  {
   "cell_type": "markdown",
   "metadata": {},
   "source": [
    "### Comments\n",
    "<font color=purple>**comment results**\n",
    "\n",
    "Give  acritical discussion of the three methods and a judgement of which model fits the data best.  Perform here as well an analysis of the bias-variance trade-off using the **bootstrap** resampling technique and an analysis of the mean squared error using cross-validation. \n",
    "</font>"
   ]
  },
  {
   "cell_type": "markdown",
   "metadata": {},
   "source": [
    "## Exercise 6: Analysis of real data\n",
    "### Introduction\n",
    "\n",
    "\n",
    "### Algorithm\n",
    "- `FrankeFunction(x,y)`:\n",
    "\n",
    "\n",
    "### Results\n"
   ]
  },
  {
   "cell_type": "code",
   "execution_count": null,
   "metadata": {},
   "outputs": [],
   "source": []
  },
  {
   "cell_type": "markdown",
   "metadata": {},
   "source": [
    "### Comments\n",
    "<font color=purple>**At the end, you should present a critical evaluation of your results\n",
    "and discuss the applicability of these regression methods to the type\n",
    "of data presented here (either the terrain data we propose or other data sets).**</font>"
   ]
  },
  {
   "cell_type": "code",
   "execution_count": null,
   "metadata": {},
   "outputs": [],
   "source": []
  },
  {
   "cell_type": "markdown",
   "metadata": {},
   "source": [
    "# Fred's version:"
   ]
  },
  {
   "cell_type": "code",
   "execution_count": null,
   "metadata": {
    "scrolled": true
   },
   "outputs": [],
   "source": [
    "import numpy as np\n",
    "from random import random, seed\n",
    "from regression import FrankeFunction, create_X, Split_and_Scale, OLS_solver, MSE, R2, Plot_FrankeFunction\n",
    "\n",
    "# Create vanilla dataset:\n",
    "np.random.seed(1233)\n",
    "\n",
    "n = 25\n",
    "\n",
    "x = np.linspace(0,1,n)\n",
    "y = np.linspace(0,1,n) \n",
    "x, y = np.meshgrid(x,y)\n",
    "\n",
    "sigma_N = 0.1; mu_N = 0 \n",
    "z = FrankeFunction(x,y) +mu_N+sigma_N*np.random.randn(n,n)\n",
    "\n",
    "Plot_FrankeFunction(x,y,z, title=\"Original noisy dataset\")\n"
   ]
  },
  {
   "cell_type": "markdown",
   "metadata": {},
   "source": [
    "Above, we see a plot of the frankefunction with some added noise. Having $\\sigma = 0.1$ seems to be a reasonable amount of noise, by looking at the plot. \n",
    "\n",
    "We can know create the designmatrix, for a polynomial up to the 5th order. We also want to split and scale the dataset, so we can make our model and prediction.\n",
    "\n",
    "We do not **have** to scale this dataset as we're not working with a lot of different units. If we imagine this to be terrain data, all the data in the set could be mesured in meteres. However, we use boolean as an argument to quickly be able to enable or disable scaling. We decided to scale the data for more adaptive code that can be reused for other purposes(Adele agree?).\n",
    "\n",
    "To create the designmatrix, as well as to split and scale out data, we run the following lines:"
   ]
  },
  {
   "cell_type": "code",
   "execution_count": null,
   "metadata": {},
   "outputs": [],
   "source": [
    "degree=5\n",
    "\n",
    "X = create_X(x, y, degree)\n",
    "X_train, X_test, z_train, z_test = Split_and_Scale(X,np.ravel(z)) #StardardScaler, test_size=0.2, scale=true"
   ]
  },
  {
   "cell_type": "markdown",
   "metadata": {},
   "source": [
    "As we now have our training and test data seperated we can go on to find the optimal $\\hat{\\beta}$ values for the training set, as well as our model and prediction. We do this using **OLS_solver()** which calculates $\\hat{\\beta}$ through matrix inversion:\n",
    "\n",
    "$$\\hat{\\beta}^{OLS} = (X^T X)^{-1}X^T z$$\n",
    "\n",
    "Where X is the designmatrix for the traindata and z is the training datapoints from the frankefunction. To avoid problems arising from singular matrices, we use the **pinv()** function to find the psudoinverse.\n",
    "\n",
    "This yields both our model and the prediction by\n",
    "$$\\tilde{z} = X \\hat{\\beta}$$\n",
    "Where X is the designmatrix for the training data to produce our model, and the designmatrix for our test data to produce out prediction. \n",
    "\n",
    "We run the following line to find our result:"
   ]
  },
  {
   "cell_type": "code",
   "execution_count": null,
   "metadata": {},
   "outputs": [],
   "source": [
    "ols_beta, z_tilde,z_predict = OLS_solver(X_train, X_test, z_train, z_test)"
   ]
  },
  {
   "cell_type": "markdown",
   "metadata": {},
   "source": [
    "As we now have our model and prediction we can go on to calculate the mean square error and the R2 score for both our model and presdiction:"
   ]
  },
  {
   "cell_type": "markdown",
   "metadata": {},
   "source": [
    "Finally, we know that the confidence interval of beta can be found by:\n",
    "$$var(\\beta) = \\sigma^2 (X^T X)^{-1}$$\n",
    "Where $\\sigma$ si our deviation from the dataset, and X is the designmatrix for the training data.\n",
    "\n",
    "We can therefore calculate the confidence interval in the following way:\n"
   ]
  },
  {
   "cell_type": "code",
   "execution_count": null,
   "metadata": {},
   "outputs": [],
   "source": [
    "import pandas as pd\n",
    "# Confidence interval\n",
    "beta_ols_variance = sigma_N**2 * np.linalg.pinv(X_train.T @ X_train) #Calculates variance of beta\n",
    "var_diag=np.diag(beta_ols_variance)\n",
    "ci1 = ols_beta - 1.96 * np.sqrt(var_diag)/(X.shape[0])\n",
    "ci2 = ols_beta + 1.96 * np.sqrt(var_diag)/(X.shape[0])\n",
    "print('Confidence interval of β-estimator at 95 %:')\n",
    "ci_df = {r'$β_{-}$': ci1,\n",
    "         r'$β_{ols}$': ols_beta,\n",
    "         r'$β_{+}$': ci2}\n",
    "ci_df = pd.DataFrame(ci_df)\n",
    "display(np.round(ci_df,3))#prec\n",
    "print(\"––––––––––––––––––––––––––––––––––––––––––––\")\n"
   ]
  },
  {
   "cell_type": "markdown",
   "metadata": {},
   "source": [
    "Above we can see the confidence interval for our estimators with a 95% certainty. "
   ]
  }
 ],
 "metadata": {
  "kernelspec": {
   "display_name": "Python 3",
   "language": "python",
   "name": "python3"
  },
  "language_info": {
   "codemirror_mode": {
    "name": "ipython",
    "version": 3
   },
   "file_extension": ".py",
   "mimetype": "text/x-python",
   "name": "python",
   "nbconvert_exporter": "python",
   "pygments_lexer": "ipython3",
   "version": "3.8.5"
  }
 },
 "nbformat": 4,
 "nbformat_minor": 5
}
